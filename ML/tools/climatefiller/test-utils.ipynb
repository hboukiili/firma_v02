{
 "cells": [
  {
   "cell_type": "code",
   "execution_count": 8,
   "metadata": {},
   "outputs": [],
   "source": [
    "import numpy as np\n",
    "from data_science_toolkit.dataframe import DataFrame\n",
    "import time\n",
    "import pandas as pd\n",
    "from lib import Lib\n",
    "import warnings\n",
    "from utils import ClimateFiller\n",
    "warnings.filterwarnings('ignore')"
   ]
  },
  {
   "cell_type": "code",
   "execution_count": 2,
   "metadata": {},
   "outputs": [
    {
     "name": "stdout",
     "output_type": "stream",
     "text": [
      "2.423393726348877\n",
      "DataFrame exported successfully to /./data/climate__ts.csv\n"
     ]
    }
   ],
   "source": [
    "def main():\n",
    "    ti = time.time()\n",
    "    \n",
    "    # Read the time series \n",
    "    # df = pd.read_excel('.\\me\\R3_meteo_N0_Unification.xlsx', sheet_name='R3_2013-2020', usecols=\"A:G\")\n",
    "\n",
    "    df = pd.read_csv('./data/los_angeles_air_temperature.csv')\n",
    "\n",
    "    # Delete all rows with impaire index\n",
    "    # df = df.drop(df.index[1::2])\n",
    "\n",
    "    data = DataFrame(df, data_type='df')\n",
    "\n",
    "    # data = DataFrame(r\".\\me\\R3_meteo_N0_Unification.xlsx\", data_type='xls', sheet_name='R3_2013-2020')\n",
    "    # we need use cols to read the excel file correctly \n",
    "\n",
    "    # Rename target colmn \n",
    "    # data.rename_columns({'R3_Tair':'ta'})\n",
    "\n",
    "    data.rename_columns({'air_temperature':'ta'})\n",
    "\n",
    "    # Initilize the ClimateFiller object\n",
    "    # climate_filler = ClimateFiller(data.get_dataframe(), data_type='df', datetime_column_name='DateBis')\n",
    "    climate_filler = ClimateFiller(data.get_dataframe()  ,data_type='df', datetime_column_name='datetime')\n",
    "   \n",
    "    print(time.time() - ti)\n",
    "    # Export the dataframe to a csv file\n",
    "    climate_filler.export('./data/climate__ts.csv', data_type='csv')\n",
    "\n",
    "\n",
    "if __name__ == '__main__':\n",
    "    main()"
   ]
  },
  {
   "cell_type": "code",
   "execution_count": 3,
   "metadata": {},
   "outputs": [
    {
     "data": {
      "text/plain": [
       "datetime      0\n",
       "ta          793\n",
       "dtype: int64"
      ]
     },
     "execution_count": 3,
     "metadata": {},
     "output_type": "execute_result"
    }
   ],
   "source": [
    "# missing values in the data \n",
    "pd.isnull(pd.read_csv('./data/climate__ts.csv')).sum()"
   ]
  },
  {
   "cell_type": "code",
   "execution_count": 5,
   "metadata": {},
   "outputs": [
    {
     "name": "stdout",
     "output_type": "stream",
     "text": [
      "Downloaded data from ERA5-Land for temperature is done\n",
      "            t2m            datetime\n",
      "6576  16.162210 2012-10-01 00:00:00\n",
      "6577  15.146173 2012-10-01 01:00:00\n",
      "6578  14.281854 2012-10-01 02:00:00\n",
      "6579  13.630212 2012-10-01 03:00:00\n",
      "6580  13.024301 2012-10-01 04:00:00\n",
      "...         ...                 ...\n",
      "7988  18.130441 2017-11-29 20:00:00\n",
      "7989  16.874338 2017-11-29 21:00:00\n",
      "7990  16.870706 2017-11-29 22:00:00\n",
      "7991  13.922830 2017-11-29 23:00:00\n",
      "7992  12.826929 2017-11-30 00:00:00\n",
      "\n",
      "[45265 rows x 2 columns]\n",
      "Imputation of missing data for ta from ERA5_Land was done!\n",
      "155.94311332702637\n",
      "DataFrame exported successfully to /./data/climate__ml.csv\n"
     ]
    }
   ],
   "source": [
    "def main():\n",
    "    ti = time.time()\n",
    "    \n",
    "    df = pd.read_csv('./data/climate__ts.csv')\n",
    "\n",
    "    # Delete all rows with impaire index\n",
    "    # df = df.drop(df.index[1::2])\n",
    "\n",
    "    data = DataFrame(df, data_type='df')\n",
    "\n",
    "    # delete the pair index and value\n",
    "    \n",
    "\n",
    "    # Rename target colmn \n",
    "    # data.rename_columns({'R3_Hr':'rh'})\n",
    "\n",
    "    # Initilize the ClimateFiller object\n",
    "    climate_filler = ClimateFiller(data.get_dataframe(), data_type='df', datetime_column_name='datetime')   \n",
    "\n",
    "    # Fill missing values using the 'ffill' method\n",
    "    climate_filler.fill( 'ta' , latitude=31.66749781, longitude=-7.593311291 , product ='era5-Land' , machine_learning_enabled=False , backend='gee')\n",
    "    # , machine_learning_enabled=True)\n",
    "\n",
    "    print(time.time() - ti)\n",
    "    # Export the dataframe to a csv file\n",
    "    climate_filler.export('./data/climate__ml.csv', data_type='csv')\n",
    "\n",
    "if __name__ == '__main__':\n",
    "    main()"
   ]
  },
  {
   "cell_type": "code",
   "execution_count": 6,
   "metadata": {},
   "outputs": [
    {
     "data": {
      "text/plain": [
       "datetime    0\n",
       "ta          0\n",
       "dtype: int64"
      ]
     },
     "execution_count": 6,
     "metadata": {},
     "output_type": "execute_result"
    }
   ],
   "source": [
    "# missing values in the data\n",
    "pd.isnull(pd.read_csv('./data/climate__ml.csv')).sum()"
   ]
  },
  {
   "cell_type": "code",
   "execution_count": 7,
   "metadata": {},
   "outputs": [
    {
     "name": "stdout",
     "output_type": "stream",
     "text": [
      "Downloaded data from ERA5-Land for solar radiation is done\n",
      "DataFrame exported successfully to /./data/era5_Land-rs-gee.csv\n",
      "59.6305992603302\n"
     ]
    }
   ],
   "source": [
    "def main():\n",
    "    ti = time.time()\n",
    "\n",
    "    # Initilize the ClimateFiller object\n",
    "    climate_filler = ClimateFiller()\n",
    "\n",
    "    # # download data\n",
    "    climate_filler.download('rs','2020-01-01','2023-01-20'  ,latitude=31.66749781, longitude=-7.593311291, product='era5-Land' , backend='gee')\n",
    "\n",
    "    # export already included in download method\n",
    "    # but you can export data using export method\n",
    "    # export data\n",
    "    climate_filler.data_reanalysis.export('./data/era5_Land-rs-gee.csv')\n",
    "    \n",
    "   \n",
    "    print(time.time() - ti)\n",
    "\n",
    "\n",
    "if __name__ == '__main__':\n",
    "    main()"
   ]
  }
 ],
 "metadata": {
  "kernelspec": {
   "display_name": "Python 3",
   "language": "python",
   "name": "python3"
  },
  "language_info": {
   "codemirror_mode": {
    "name": "ipython",
    "version": 3
   },
   "file_extension": ".py",
   "mimetype": "text/x-python",
   "name": "python",
   "nbconvert_exporter": "python",
   "pygments_lexer": "ipython3",
   "version": "3.10.8"
  },
  "orig_nbformat": 4
 },
 "nbformat": 4,
 "nbformat_minor": 2
}
